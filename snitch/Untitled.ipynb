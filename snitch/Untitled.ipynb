{
 "cells": [
  {
   "cell_type": "code",
   "execution_count": 1,
   "metadata": {
    "collapsed": false
   },
   "outputs": [
    {
     "name": "stdout",
     "output_type": "stream",
     "text": [
      "\u001b[33mWARNING: You are using pip version 20.2.3; however, version 21.0.1 is available.\r\n",
      "You should consider upgrading via the '/usr/local/bin/python -m pip install --upgrade pip' command.\u001b[0m\r\n"
     ]
    }
   ],
   "source": [
    "! pip install --quiet google-ads environs psycopg2-binary"
   ]
  },
  {
   "cell_type": "code",
   "execution_count": 2,
   "metadata": {
    "collapsed": false
   },
   "outputs": [],
   "source": [
    "%load_ext autoreload\n",
    "%autoreload 2"
   ]
  },
  {
   "cell_type": "code",
   "execution_count": 8,
   "metadata": {
    "collapsed": false
   },
   "outputs": [],
   "source": [
    "from google.ads.google_ads.client import GoogleAdsClient\n",
    "from google.ads.google_ads.errors import GoogleAdsException\n",
    "\n",
    "client = GoogleAdsClient.load_from_storage('./google-ads.yaml')"
   ]
  },
  {
   "cell_type": "code",
   "execution_count": 9,
   "metadata": {
    "collapsed": false
   },
   "outputs": [],
   "source": [
    "# customer_id = '6521863227'\n",
    "customer_id = '4607395644'"
   ]
  },
  {
   "cell_type": "code",
   "execution_count": 45,
   "metadata": {
    "collapsed": false
   },
   "outputs": [],
   "source": [
    "def create_conversion_action(client, customer_id, name):\n",
    "    conversion_action_service = client.get_service(\n",
    "        \"ConversionActionService\", version=\"v6\"\n",
    "    )\n",
    "    conversion_action_operation = client.get_type(\n",
    "        \"ConversionActionOperation\", version=\"v6\"\n",
    "    )\n",
    "\n",
    "    conversion_action = conversion_action_operation.create\n",
    "    conversion_action.name = name\n",
    "    conversion_action.type = client.get_type(\n",
    "        \"ConversionActionTypeEnum\"\n",
    "    ).UPLOAD_CLICKS\n",
    "    conversion_action.category = client.get_type(\n",
    "        \"ConversionActionCategoryEnum\"\n",
    "    ).DEFAULT\n",
    "    conversion_action.status = client.get_type(\n",
    "        \"ConversionActionStatusEnum\"\n",
    "    ).ENABLED\n",
    "\n",
    "    # Add the conversion action.\n",
    "    conversion_action_response = conversion_action_service.mutate_conversion_actions(\n",
    "        customer_id, [conversion_action_operation]\n",
    "    )\n",
    "    \n",
    "    return conversion_action_response"
   ]
  },
  {
   "cell_type": "code",
   "execution_count": null,
   "metadata": {
    "collapsed": false
   },
   "outputs": [],
   "source": [
    "create_conversion_action(client, customer_id, 'savvy_investor')"
   ]
  },
  {
   "cell_type": "code",
   "execution_count": 95,
   "metadata": {
    "collapsed": false
   },
   "outputs": [
    {
     "data": {
      "text/plain": [
       "[]"
      ]
     },
     "execution_count": 95,
     "metadata": {},
     "output_type": "execute_result"
    }
   ],
   "source": [
    "ga_service = client.get_service(\"GoogleAdsService\", version=\"v6\")\n",
    "\n",
    "query = f\"\"\"\n",
    "SELECT click_view.gclid\n",
    "FROM click_view\n",
    "WHERE segments.date DURING YESTERDAY\n",
    "\"\"\"\n",
    "\n",
    "response = ga_service.search_stream(customer_id, query=query)\n",
    "[row for batch in response for row in batch.results]"
   ]
  },
  {
   "cell_type": "code",
   "execution_count": null,
   "metadata": {
    "collapsed": false
   },
   "outputs": [],
   "source": [
    "from datetime import datetime\n",
    "\n",
    "def get_conversion_action(client, customer_id, name):\n",
    "    ga_service = client.get_service(\"GoogleAdsService\", version=\"v6\")\n",
    "\n",
    "    query = f\"\"\"\n",
    "      SELECT conversion_action.id, conversion_action.name\n",
    "      FROM conversion_action\n",
    "      WHERE conversion_action.name = '{name}'\n",
    "    \"\"\"\n",
    "\n",
    "    response = ga_service.search_stream(customer_id, query=query)\n",
    "    try:\n",
    "        row = next(row for batch in response for row in batch.results)\n",
    "        return row.conversion_action\n",
    "    except StopIteration:\n",
    "        return None\n",
    "\n",
    "def create_click_conversion(client, customer_id, action_name, gclid, utc_dt):\n",
    "    ca = get_conversion_action(client, customer_id, action_name)\n",
    "    if ca is None:\n",
    "        raise Exception(f\"Could not find conversion_action with name {action_name}\")\n",
    "\n",
    "    click_conversion = client.get_type(\"ClickConversion\", version=\"v6\")\n",
    "    click_conversion.conversion_action = ca.resource_name    \n",
    "    click_conversion.gclid = gclid\n",
    "    click_conversion.conversion_date_time = utc_dt.strftime(\"%Y-%m-%d %H:%M:%S+00:00\")        \n",
    "\n",
    "    conversion_upload_service = client.get_service(\n",
    "        \"ConversionUploadService\", version=\"v6\"\n",
    "    )\n",
    "\n",
    "    conversion_upload_response = conversion_upload_service.upload_click_conversions(\n",
    "        customer_id, [click_conversion], partial_failure=True\n",
    "    )\n",
    "    return conversion_upload_response\n",
    "\n",
    "\n",
    "\n",
    "create_click_conversion(client, customer_id, 'savvy_investor', 'CKSDxc_qhLkCFQyk4AodO24Arg', datetime.utcnow())"
   ]
  },
  {
   "cell_type": "code",
   "execution_count": null,
   "metadata": {
    "collapsed": false
   },
   "outputs": [],
   "source": [
    "datetime.utcnow().isoformat()"
   ]
  },
  {
   "cell_type": "code",
   "execution_count": null,
   "metadata": {
    "collapsed": false
   },
   "outputs": [],
   "source": [
    "dir(datetime.utcnow())"
   ]
  },
  {
   "cell_type": "code",
   "execution_count": 68,
   "metadata": {
    "collapsed": false
   },
   "outputs": [
    {
     "data": {
      "text/plain": [
       "'yyyy-mm-dd hh:mm:ss+|-hh:mm'"
      ]
     },
     "execution_count": 68,
     "metadata": {},
     "output_type": "execute_result"
    }
   ],
   "source": [
    "datetime.utcnow().strftime(\"yyyy-mm-dd hh:mm:ss+|-hh:mm\")"
   ]
  },
  {
   "cell_type": "code",
   "execution_count": null,
   "metadata": {
    "collapsed": false
   },
   "outputs": [],
   "source": []
  },
  {
   "cell_type": "code",
   "execution_count": 13,
   "metadata": {
    "collapsed": false
   },
   "outputs": [],
   "source": [
    "from environs import Env\n",
    "import psycopg2\n",
    "\n",
    "env = Env()\n",
    "env.read_env('.env', override=True)\n",
    "\n",
    "conn = psycopg2.connect(\n",
    "    dbname=env(\"PG_DATABASE\"),\n",
    "    user=env(\"PG_USER\"),\n",
    "    host=env(\"PG_HOST\"),\n",
    "    port=env(\"PG_PORT\"),\n",
    "    password=env(\"PG_PASSWORD\"),\n",
    ")"
   ]
  },
  {
   "cell_type": "code",
   "execution_count": 14,
   "metadata": {
    "collapsed": false
   },
   "outputs": [],
   "source": [
    "from consumer import Consumer\n",
    "from report_conversions import report_conversions\n",
    "from google.ads.google_ads.client import GoogleAdsClient\n",
    "\n",
    "consumer = Consumer(conn, \"signups_ga\", \"event_consumer_groups\", 5)\n",
    "\n",
    "work = lambda o, n: report_conversions(conn, client, customer_id, o, n)\n"
   ]
  },
  {
   "cell_type": "code",
   "execution_count": null,
   "metadata": {
    "collapsed": false
   },
   "outputs": [
    {
     "name": "stdout",
     "output_type": "stream",
     "text": [
      "partial_failure_error {\n",
      "  code: 3\n",
      "  message: \"This Google Click ID could not be decoded., at conversions[0].gclid\"\n",
      "  details {\n",
      "    type_url: \"type.googleapis.com/google.ads.googleads.v6.errors.GoogleAdsFailure\"\n",
      "    value: \"\\nT\\n\\003\\370\\006\\003\\022*This Google Click ID could not be decoded.\\032\\005*\\003qux\\\"\\032\\022\\017\\n\\013conversions\\030\\000\\022\\007\\n\\005gclid\"\n",
      "  }\n",
      "}\n",
      "results {\n",
      "}\n",
      "\n"
     ]
    }
   ],
   "source": [
    "consumer.do_work(work)"
   ]
  },
  {
   "cell_type": "code",
   "execution_count": null,
   "metadata": {
    "collapsed": false
   },
   "outputs": [],
   "source": []
  }
 ],
 "metadata": {
  "kernelspec": {
   "argv": [
    "python",
    "-m",
    "ipykernel_launcher",
    "-f",
    "{connection_file}"
   ],
   "display_name": "Python 3",
   "env": null,
   "interrupt_mode": "signal",
   "language": "python",
   "metadata": null,
   "name": "python3"
  },
  "name": "Untitled.ipynb"
 },
 "nbformat": 4,
 "nbformat_minor": 4
}
